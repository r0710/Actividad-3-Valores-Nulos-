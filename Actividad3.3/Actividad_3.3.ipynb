{
 "cells": [
  {
   "cell_type": "code",
   "execution_count": 3,
   "metadata": {},
   "outputs": [],
   "source": [
    "#Solo importamos pandas\n",
    "import pandas as pd"
   ]
  },
  {
   "cell_type": "code",
   "execution_count": 4,
   "metadata": {},
   "outputs": [],
   "source": [
    "#Aquí definiremos una función que nos ayude a pasar a un data frame los archivos que le entreguemos (multiples extensiones)\n",
    "def convert (df):\n",
    "\n",
    "    if df.endswith ('.csv'): #Practicamente opte porque el programa termine leyendo en que\n",
    "                                #terminan los nombres de los archivos que le entreguen y así elija la terminación correspondiente para elejir el método de lectura\n",
    "        return pd.read_csv(df)   #Y finalmente retorna la lectura el archivo que le entreguen\n",
    "\n",
    "    elif df.endswith ('.xlsx'):\n",
    "        return pd.read_excel(df)\n",
    "\n",
    "    elif df.endswith ('.json'):\n",
    "        return pd.read_json(df)\n",
    "    \n",
    "    elif df.endswith ('.html'):\n",
    "        return pd.read_html(df)\n"
   ]
  },
  {
   "cell_type": "code",
   "execution_count": 5,
   "metadata": {},
   "outputs": [],
   "source": [
    "#Y ahora probamos que la función funcione con todos los formatos que hemos tocado en clase\n",
    "json = convert('data-nl-2015.json')\n",
    "json.to_csv('JSON.csv') #Y lo guardamos en un csv (aclaro escuche que dijeron en la clase que así por el peso)"
   ]
  },
  {
   "cell_type": "code",
   "execution_count": 6,
   "metadata": {},
   "outputs": [],
   "source": [
    "#Y ahora probamos que la función funcione con todos los formatos que hemos tocado en clase\n",
    "csv = convert('Boston_United States.csv')\n",
    "csv.to_csv('CSV.csv') #Y lo guardamos en un csv (aclaro escuche que dijeron en la clase que así por el peso)"
   ]
  },
  {
   "cell_type": "code",
   "execution_count": 7,
   "metadata": {},
   "outputs": [],
   "source": [
    "#Y ahora probamos que la función funcione con todos los formatos que hemos tocado en clase\n",
    "csv = convert('Inside Airbnb Data Dictionary.xlsx')\n",
    "csv.to_csv('EXCEL.csv') #Y lo guardamos en un csv (aclaro escuche que dijeron en la clase que así por el peso)"
   ]
  },
  {
   "cell_type": "code",
   "execution_count": null,
   "metadata": {},
   "outputs": [],
   "source": [
    "#Y ahora probamos que la función funcione con todos los formatos que hemos tocado en clase\n",
    "htm = convert('Data_Airbnb.html')\n",
    "htm.to_csv('HTML.csv') #Y lo guardamos en un csv (aclaro escuche que dijeron en la clase que así por el peso)\n",
    "#Y aquí el programa nos mencionaba que no era posible pasarlo a CSV :("
   ]
  }
 ],
 "metadata": {
  "kernelspec": {
   "display_name": "Python 3",
   "language": "python",
   "name": "python3"
  },
  "language_info": {
   "codemirror_mode": {
    "name": "ipython",
    "version": 3
   },
   "file_extension": ".py",
   "mimetype": "text/x-python",
   "name": "python",
   "nbconvert_exporter": "python",
   "pygments_lexer": "ipython3",
   "version": "3.13.2"
  }
 },
 "nbformat": 4,
 "nbformat_minor": 2
}
